{
 "cells": [
  {
   "cell_type": "code",
   "execution_count": 1,
   "metadata": {},
   "outputs": [],
   "source": [
    "# import libraries\n",
    "import numpy as np\n",
    "import pandas as pd\n",
    "import matplotlib.pyplot as plt\n",
    "from sklearn.model_selection import train_test_split\n",
    "from sklearn.linear_model import LinearRegression\n",
    "from sklearn.metrics import mean_absolute_error\n",
    "from sklearn.metrics import mean_squared_error\n",
    "import joblib\n",
    "import warnings\n",
    "warnings.filterwarnings('ignore')\n",
    "%matplotlib inline\n",
    "import random\n",
    "random.seed=0"
   ]
  },
  {
   "cell_type": "code",
   "execution_count": 2,
   "metadata": {},
   "outputs": [
    {
     "name": "stdout",
     "output_type": "stream",
     "text": [
      "Shape of data (25, 2)\n"
     ]
    },
    {
     "data": {
      "text/html": [
       "<div>\n",
       "<style scoped>\n",
       "    .dataframe tbody tr th:only-of-type {\n",
       "        vertical-align: middle;\n",
       "    }\n",
       "\n",
       "    .dataframe tbody tr th {\n",
       "        vertical-align: top;\n",
       "    }\n",
       "\n",
       "    .dataframe thead th {\n",
       "        text-align: right;\n",
       "    }\n",
       "</style>\n",
       "<table border=\"1\" class=\"dataframe\">\n",
       "  <thead>\n",
       "    <tr style=\"text-align: right;\">\n",
       "      <th></th>\n",
       "      <th>Hours</th>\n",
       "      <th>Scores</th>\n",
       "    </tr>\n",
       "  </thead>\n",
       "  <tbody>\n",
       "    <tr>\n",
       "      <th>0</th>\n",
       "      <td>2.5</td>\n",
       "      <td>21</td>\n",
       "    </tr>\n",
       "    <tr>\n",
       "      <th>1</th>\n",
       "      <td>5.1</td>\n",
       "      <td>47</td>\n",
       "    </tr>\n",
       "    <tr>\n",
       "      <th>2</th>\n",
       "      <td>3.2</td>\n",
       "      <td>27</td>\n",
       "    </tr>\n",
       "    <tr>\n",
       "      <th>3</th>\n",
       "      <td>8.5</td>\n",
       "      <td>75</td>\n",
       "    </tr>\n",
       "    <tr>\n",
       "      <th>4</th>\n",
       "      <td>3.5</td>\n",
       "      <td>30</td>\n",
       "    </tr>\n",
       "  </tbody>\n",
       "</table>\n",
       "</div>"
      ],
      "text/plain": [
       "   Hours  Scores\n",
       "0    2.5      21\n",
       "1    5.1      47\n",
       "2    3.2      27\n",
       "3    8.5      75\n",
       "4    3.5      30"
      ]
     },
     "execution_count": 2,
     "metadata": {},
     "output_type": "execute_result"
    }
   ],
   "source": [
    "# loading data\n",
    "data=pd.read_csv('data.csv')\n",
    "print(f'Shape of data {data.shape}')\n",
    "data.head()"
   ]
  },
  {
   "cell_type": "code",
   "execution_count": 3,
   "metadata": {},
   "outputs": [
    {
     "name": "stdout",
     "output_type": "stream",
     "text": [
      "       Hours  Scores\n",
      "count  25.00   25.00\n",
      "mean    5.01   51.48\n",
      "std     2.53   25.29\n",
      "min     1.10   17.00\n",
      "25%     2.70   30.00\n",
      "50%     4.80   47.00\n",
      "75%     7.40   75.00\n",
      "max     9.20   95.00\n",
      "\n",
      "No of null values in the dataset - Hours     0\n",
      "Scores    0\n",
      "dtype: int64\n"
     ]
    }
   ],
   "source": [
    "data_dec=np.round(data.describe(),2)\n",
    "print(data_dec)\n",
    "print(f\"\\nNo of null values in the dataset - {data.isna().sum()}\")"
   ]
  },
  {
   "cell_type": "code",
   "execution_count": 4,
   "metadata": {},
   "outputs": [
    {
     "name": "stdout",
     "output_type": "stream",
     "text": [
      "Q1 \n",
      " Hours      2.7\n",
      "Scores    30.0\n",
      "Name: 25%, dtype: float64 \n",
      "Q2 \n",
      " Hours      4.8\n",
      "Scores    47.0\n",
      "Name: 50%, dtype: float64 \n",
      "Q3 \n",
      " Hours      7.4\n",
      "Scores    75.0\n",
      "Name: 75%, dtype: float64\n",
      "**************************************************\n",
      "IQR - Hours      4.7\n",
      "Scores    45.0\n",
      "dtype: float64\n",
      "**************************************************\n",
      "Outliers are values below \n",
      " Hours     -4.35\n",
      "Scores   -37.50\n",
      "dtype: float64 or above \n",
      " Hours      14.45\n",
      "Scores    142.50\n",
      "dtype: float64\n"
     ]
    },
    {
     "data": {
      "text/plain": [
       "{'whiskers': [<matplotlib.lines.Line2D at 0x22953f40dc8>,\n",
       "  <matplotlib.lines.Line2D at 0x22953f6b908>,\n",
       "  <matplotlib.lines.Line2D at 0x22953f7ef88>,\n",
       "  <matplotlib.lines.Line2D at 0x22953f78908>],\n",
       " 'caps': [<matplotlib.lines.Line2D at 0x22953f72cc8>,\n",
       "  <matplotlib.lines.Line2D at 0x22953f72d48>,\n",
       "  <matplotlib.lines.Line2D at 0x22953f84d48>,\n",
       "  <matplotlib.lines.Line2D at 0x22953f84dc8>],\n",
       " 'boxes': [<matplotlib.lines.Line2D at 0x22953f6b808>,\n",
       "  <matplotlib.lines.Line2D at 0x22953f78b48>],\n",
       " 'medians': [<matplotlib.lines.Line2D at 0x22953f78a48>,\n",
       "  <matplotlib.lines.Line2D at 0x22953f88fc8>],\n",
       " 'fliers': [<matplotlib.lines.Line2D at 0x22953f78a88>,\n",
       "  <matplotlib.lines.Line2D at 0x22953f88b08>],\n",
       " 'means': []}"
      ]
     },
     "execution_count": 4,
     "metadata": {},
     "output_type": "execute_result"
    },
    {
     "data": {
      "image/png": "[encoded data removed]",
      "text/plain": [
       "<Figure size 432x288 with 1 Axes>"
      ]
     },
     "metadata": {
      "needs_background": "light"
     },
     "output_type": "display_data"
    }
   ],
   "source": [
    "# finding outliers in the dataset\n",
    "q1=data_dec.loc['25%']\n",
    "q2=data_dec.loc['50%']\n",
    "q3=data_dec.loc['75%']\n",
    "print(\"Q1 \\n\",q1,\"\\nQ2 \\n\",q2,\"\\nQ3 \\n\",q3)\n",
    "iqr=q3-q1\n",
    "print('*'*50)\n",
    "print(\"IQR -\",iqr)\n",
    "print('*'*50)\n",
    "ll=q1-1.5*iqr\n",
    "ul=q3+1.5*iqr\n",
    "print(\"Outliers are values below \\n\",ll, 'or above \\n', ul)\n",
    "plt.boxplot(data)"
   ]
  },
  {
   "cell_type": "code",
   "execution_count": 5,
   "metadata": {},
   "outputs": [
    {
     "data": {
      "text/plain": [
       "Text(0.5, 1.0, 'Plot of Hours vs Score')"
      ]
     },
     "execution_count": 5,
     "metadata": {},
     "output_type": "execute_result"
    },
    {
     "data": {
      "image/png": "[encoded data removed]",
      "text/plain": [
       "<Figure size 720x360 with 1 Axes>"
      ]
     },
     "metadata": {
      "needs_background": "light"
     },
     "output_type": "display_data"
    }
   ],
   "source": [
    "# plotting figure of the given data\n",
    "x=data[['Hours']]\n",
    "y=data[['Scores']]\n",
    "plt.figure(figsize=(10,5))\n",
    "plt.scatter(x,y)\n",
    "plt.xlabel('No of Hours studies')\n",
    "plt.ylabel('Score of student')\n",
    "plt.title('Plot of Hours vs Score', loc='center')"
   ]
  },
  {
   "cell_type": "code",
   "execution_count": 6,
   "metadata": {},
   "outputs": [],
   "source": [
    "# Splitting data into test and train as there is only one data set\n",
    "x_train, x_test, y_train, y_test=train_test_split(x,y, train_size=0.8)"
   ]
  },
  {
   "cell_type": "code",
   "execution_count": 7,
   "metadata": {},
   "outputs": [],
   "source": [
    "# Training model with train data\n",
    "lgr=LinearRegression()\n",
    "lgr.fit(x_train, y_train)\n",
    "lgr_line=lgr.coef_*x+lgr.intercept_"
   ]
  },
  {
   "cell_type": "code",
   "execution_count": 8,
   "metadata": {},
   "outputs": [
    {
     "data": {
      "text/plain": [
       "Text(0.5, 1.0, 'Plot of Hours vs Score')"
      ]
     },
     "execution_count": 8,
     "metadata": {},
     "output_type": "execute_result"
    },
    {
     "data": {
      "image/png": "[encoded data removed]",
      "text/plain": [
       "<Figure size 720x360 with 1 Axes>"
      ]
     },
     "metadata": {
      "needs_background": "light"
     },
     "output_type": "display_data"
    }
   ],
   "source": [
    "# plotting graph of regression line with the given data\n",
    "plt.figure(figsize=(10,5))\n",
    "plt.scatter(x,y, c='red', )\n",
    "plt.plot(x,lgr_line )\n",
    "plt.legend(['Regression line', 'Actual data'], loc='best')\n",
    "plt.xlabel('No of Hours studies')\n",
    "plt.ylabel('Score of student')\n",
    "plt.title('Plot of Hours vs Score', loc='center')"
   ]
  },
  {
   "cell_type": "code",
   "execution_count": 9,
   "metadata": {},
   "outputs": [],
   "source": [
    "# prediction of data with trained model using test data\n",
    "y_predicted=np.round(lgr.predict(x_test),2)"
   ]
  },
  {
   "cell_type": "code",
   "execution_count": 10,
   "metadata": {},
   "outputs": [
    {
     "name": "stdout",
     "output_type": "stream",
     "text": [
      "Mean absolute error = 6.38\n",
      "Mean squared error = 48.75\n"
     ]
    }
   ],
   "source": [
    "# test mean squared error and mean absolute error on test data\n",
    "mae=mean_absolute_error(y_test, y_predicted)\n",
    "print(f'Mean absolute error = {round(mae,2)}')\n",
    "mse=mean_squared_error(y_test, y_predicted)\n",
    "print(f'Mean squared error = {round(mse,2)}')"
   ]
  },
  {
   "cell_type": "code",
   "execution_count": 11,
   "metadata": {},
   "outputs": [
    {
     "name": "stdout",
     "output_type": "stream",
     "text": [
      "Student studying for 9.25 hours will get marks around -  93.6647101365051\n"
     ]
    }
   ],
   "source": [
    "# What will be predicted score if a student studies for 9.25 hrs/ day?\n",
    "x_input=9.25\n",
    "#y_predict=round(lgr.predict([[x_input]]).flatten()[0],2)\n",
    "y_predict=lgr.predict([[x_input]])[0][0]\n",
    "# considering the max marks is 100\n",
    "if y_predict>100:\n",
    "    y_predict=100\n",
    "\n",
    "print('Student studying for 9.25 hours will get marks around - ', y_predict)"
   ]
  },
  {
   "cell_type": "code",
   "execution_count": 12,
   "metadata": {},
   "outputs": [
    {
     "data": {
      "text/plain": [
       "array([[93.66471014]])"
      ]
     },
     "execution_count": 12,
     "metadata": {},
     "output_type": "execute_result"
    }
   ],
   "source": [
    "joblib.dump(lgr, 'modjob.pkl')\n",
    "modjob=joblib.load('modjob.pkl')\n",
    "modjob.predict([[9.25]])"
   ]
  }
 ],
 "metadata": {
  "kernelspec": {
   "display_name": "Python 3",
   "language": "python",
   "name": "python3"
  },
  "language_info": {
   "codemirror_mode": {
    "name": "ipython",
    "version": 3
   },
   "file_extension": ".py",
   "mimetype": "text/x-python",
   "name": "python",
   "nbconvert_exporter": "python",
   "pygments_lexer": "ipython3",
   "version": "3.7.9"
  }
 },
 "nbformat": 4,
 "nbformat_minor": 4
}
